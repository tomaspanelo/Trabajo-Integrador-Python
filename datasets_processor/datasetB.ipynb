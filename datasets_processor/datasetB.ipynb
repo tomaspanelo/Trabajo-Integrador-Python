{
 "cells": [
  {
   "cell_type": "code",
   "execution_count": null,
   "metadata": {},
   "outputs": [],
   "source": [
    "import csv\n",
    "import pathlib\n",
    "\n",
    "read_dataset = pathlib.Path('../datasets/original_datasets/Conectividad_Internet.csv')\n",
    "write_dataset = pathlib.Path('../datasets/custom_datasets/Conectividad_Internet.csv')\n",
    "\n",
    "with (  read_dataset.open(mode='r', encoding='utf-8') as read_file,\n",
    "        write_dataset.open(mode='w', encoding='utf-8') as write_file):\n",
    "    \n",
    "    reader = csv.DictReader(read_file)\n",
    "    writer = csv.writer(write_file)"
   ]
  }
 ],
 "metadata": {
  "language_info": {
   "name": "python"
  }
 },
 "nbformat": 4,
 "nbformat_minor": 2
}
