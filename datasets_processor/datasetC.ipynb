{
 "cells": [
  {
   "cell_type": "code",
   "execution_count": 10,
   "metadata": {},
   "outputs": [
    {
     "name": "stdout",
     "output_type": "stream",
     "text": [
      "['Nombre', 'Ubicación', 'Superficie (km²)', 'Profundidad máxima (m)', 'Profundidad media (m)', 'Coordenadas', 'Sup Tamaño']\n",
      "['Lago Argentino', 'Santa Cruz', '1435', '500', '150', '50°14\\'53\"S 72°38\\'43\"O', '0']\n",
      "['Lago Viedma', 'Santa Cruz', '1166', '', '', '49°37\\'27\"S 72°29\\'42\"O', '0']\n",
      "['Lago Nahuel Huapi', 'Río Negro / Neuquén', '540', '464', '157', '40°51\\'16\"S 71°36\\'58\"O', '0']\n",
      "['Lago Musters', 'Chubut', '427', '39', '20', '45°24\\'53\"S 69°11\\'52\"O', '0']\n",
      "['Lago Cardiel', 'Santa Cruz', '358', '', '49', '48°55\\'3\"S 71°12\\'53\"O', '0']\n",
      "['Lago Epecuén', 'Buenos Aires', '156', '11', '7', '37°7\\'45\"S 62°51\\'53\"O', '0']\n",
      "['Lago Pellegrini', 'Río Negro', '116', '', '', '38°42\\'25\"S 67°58\\'23\"O', '0']\n",
      "['Lago Strobel', 'Santa Cruz', '100', '', '', '48°25\\'58\"S 71°11\\'25\"O', '0']\n",
      "['Lago Fontana', 'Chubut', '84', '', '79', '44°55\\'17\"S 71°29\\'45\"O', '0']\n",
      "['Lago Huechulafquen', 'Neuquén', '84', '', '142', '39°46\\'28\"S 71°30\\'32\"O', '0']\n",
      "['Lago Traful', 'Neuquén', '78', '', '', '40°37\\'50\"S 71°24\\'55\"O', '0']\n",
      "['Lago La Plata', 'Chubut', '73', '', '', '44°51\\'33\"S 71°49\\'12\"O', '0']\n",
      "['Lago Ghío', 'Santa Cruz', '65', '', '', '47°17\\'18\"S 71°31\\'49\"O', '0']\n",
      "['Lago Menéndez', 'Chubut', '58', '287', '149', '42°41\\'28\"S 71°51\\'45\"O', '0']\n",
      "['Lago Aluminé', 'Neuquén', '58', '165', '64', '38°55\\'18\"S 71°7\\'35\"O', '0']\n",
      "['Lago Lácar', 'Neuquén', '53', '277', '166', '40°9\\'45\"S 71°26\\'11\"O', '0']\n",
      "['Lago Yehuin', 'Tierra del Fuego, Antártida e Islas del Atlántico Sur', '49', '', '43', '54°24\\'43\"S 67°42\\'55\"O', '0']\n",
      "['Lago Quiroga', 'Santa Cruz', '47', '', '', '48°25\\'1\"S 71°33\\'3\"O', '0']\n",
      "['Lago Puelo', 'Chubut', '47', '180', '111', '42°9\\'3\"S 71°38\\'59\"O', '0']\n",
      "['Lago Nansen', 'Santa Cruz', '42', '', '', '47°58\\'44\"S 72°21\\'11\"O', '0']\n",
      "['Lago Belgrano', 'Santa Cruz', '42', '', '', '47°50\\'38\"S 72°8\\'34\"O', '0']\n",
      "['Lago Futalaufquen', 'Chubut', '42', '168', '101', '42°49\\'42\"S 71°40\\'31\"O', '0']\n",
      "['Lago Posadas', 'Santa Cruz', '41', '', '31', '47°29\\'40\"S 71°49\\'55\"O', '0']\n",
      "['Lago Espejo', 'Neuquén', '40', '', '', '40°40\\'33\"S 71°42\\'40\"O', '0']\n",
      "['Lago Mascardi', 'Río Negro', '39', '218', '111', '41°20\\'46\"S 71°32\\'52\"O', '0']\n",
      "['Lago Chepelmut', 'Tierra del Fuego, Antártida e Islas del Atlántico Sur', '38', '', '', '54°23\\'42\"S 67°35\\'36\"O', '0']\n",
      "['Lago Salitroso o Sucio', 'Santa Cruz', '37', '', '', '47°30\\'0\"S 71°36\\'48\"O', '0']\n",
      "['Lago Lolog', 'Neuquén', '37', '', '', '40°2\\'10\"S 71°32\\'11\"O', '0']\n",
      "['Lago Tar', 'Santa Cruz', '30', '', '', '49°13\\'42\"S 72°1\\'2\"O', '0']\n",
      "['Lago Tromen', 'Neuquén', '29', '', '69', '39°31\\'33\"S 71°26\\'52\"O', '0']\n",
      "['Lago Blanco', 'Chubut', '28', '', '', '45°53\\'16\"S 71°13\\'25\"O', '0']\n",
      "['Lago Quillén', 'Neuquén', '26', '', '', '39°24\\'41\"S 71°18\\'52\"O', '0']\n",
      "['Lago Asador o Guitarra', 'Santa Cruz', '23', '', '', '47°51\\'45\"S 71°28\\'13\"O', '0']\n",
      "['Lago Rivadavia', 'Chubut', '23', '147', '104', '42°36\\'39\"S 71°39\\'59\"O', '0']\n",
      "['Lago Moquehue', 'Neuquén', '21', '', '', '38°54\\'16\"S 71°16\\'26\"O', '0']\n",
      "['Lago Correntoso', 'Neuquén', '20', '', '', '40°42\\'8\"S 71°39\\'35\"O', '0']\n",
      "['Lago Río Chico', 'Chubut', '20', '', '', '45°35\\'40\"S 68°32\\'52\"O', '0']\n",
      "['Lago Quiroga Chico', 'Santa Cruz', '20', '', '', '48°29\\'57\"S 71°35\\'5\"O', '0']\n",
      "['Lago Epuyén', 'Chubut', '17', '148', '92', '42°11\\'15\"S 71°30\\'24\"O', '0']\n",
      "['Lago Gutiérrez', 'Río Negro', '17', '111', '80', '41°12\\'28\"S 71°25\\'13\"O', '0']\n",
      "['Lago Cholila', 'Chubut', '17', '108', '49', '42°27\\'31\"S 71°40\\'9\"O', '0']\n",
      "['Lago Paimún', 'Neuquén', '16', '', '66', '39°43\\'27\"S 71°35\\'2\"O', '0']\n",
      "['Lago Azara', 'Santa Cruz', '16', '', '', '47°50\\'45\"S 72°16\\'13\"O', '0']\n",
      "['Lago Burmeister', 'Santa Cruz', '14', '', '', '47°57\\'20\"S 72°12\\'9\"O', '0']\n",
      "['Lago Onelli', 'Santa Cruz', '14', '', '', '50°6\\'30\"S 73°20\\'59\"O', '0']\n",
      "['Lago Meliquina', 'Neuquén', '14', '', '', '40°19\\'60\"S 71°19\\'10\"O', '0']\n",
      "['Lago Perito Moreno', 'Río Negro', '12', '', '', '41°3\\'58\"S 71°32\\'28\"O', '0']\n",
      "['Lago Currhué', 'Neuquén', '12', '', '', '39°50\\'24\"S 71°30\\'27\"O', '0']\n",
      "['Lago Falkner', 'Neuquén', '11', '', '', '40°29\\'6\"S 71°28\\'33\"O', '0']\n",
      "['Lago Pico Nº 1', 'Chubut', '10', '', '', '44°14\\'31\"S 71°30\\'8\"O', '0']\n",
      "['Lago Río Bueno', 'Tierra del Fuego, Antártida e Islas del Atlántico Sur', '10', '', '', '54°41\\'19\"S 65°48\\'23\"O', '0']\n",
      "['Lago Rosario', 'Chubut', '10', '57', '25', '43°15\\'36\"S 71°20\\'48\"O', '0']\n"
     ]
    }
   ],
   "source": [
    "import csv\n",
    "import pathlib\n",
    "\n",
    "read_dataset = pathlib.Path('../datasets/original_datasets/lagos_arg.csv')\n",
    "write_dataset = pathlib.Path('../datasets/custom_datasets/lagos_arg.csv')\n",
    "\n",
    "with (  read_dataset.open(mode='r', encoding='utf-8') as read_file,\n",
    "        write_dataset.open(mode='w', encoding='utf-8') as write_file):\n",
    "    \n",
    "    reader = csv.reader(read_file)\n",
    "    writer = csv.writer(write_file)\n",
    "    copia=[]\n",
    "    header = next(reader)\n",
    "    header.append(\"Sup Tamaño\")\n",
    "    print(header)\n",
    "    writer.writerow(header)\n",
    "    for line in reader:\n",
    "        line.append(\"0\")\n",
    "        writer.writerow(line)\n",
    "        print(line)\n",
    "\n",
    "    \n",
    "    "
   ]
  }
 ],
 "metadata": {
  "kernelspec": {
   "display_name": "Python 3",
   "language": "python",
   "name": "python3"
  },
  "language_info": {
   "codemirror_mode": {
    "name": "ipython",
    "version": 3
   },
   "file_extension": ".py",
   "mimetype": "text/x-python",
   "name": "python",
   "nbconvert_exporter": "python",
   "pygments_lexer": "ipython3",
   "version": "3.11.7"
  }
 },
 "nbformat": 4,
 "nbformat_minor": 2
}
