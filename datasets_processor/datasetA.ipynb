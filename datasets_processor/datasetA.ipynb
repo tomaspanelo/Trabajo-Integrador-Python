{
 "cells": [
  {
   "cell_type": "code",
   "execution_count": null,
   "metadata": {},
   "outputs": [],
   "source": [
    "import csv\n",
    "import pathlib\n",
    "\n",
    "read_dataset = pathlib.Path('../datasets/original_datasets/ar-airports.csv')\n",
    "write_dataset = pathlib.Path('../datasets/custom_datasets/ar-airports.csv')\n",
    "\n",
    "with (  read_dataset.open(mode='r', encoding='utf-8') as read_file,\n",
    "        write_dataset.open(mode='w', encoding='utf-8') as write_file):\n",
    "    \n",
    "    reader = csv.reader(read_file)\n",
    "    writer = csv.writer(write_file)\n",
    "\n",
    "    for line in reader:\n",
    "        print(line)\n",
    "\n",
    "\n",
    "    print(\"Test\")"
   ]
  }
 ],
 "metadata": {
  "kernelspec": {
   "display_name": "Python 3",
   "language": "python",
   "name": "python3"
  },
  "language_info": {
   "codemirror_mode": {
    "name": "ipython",
    "version": 3
   },
   "file_extension": ".py",
   "mimetype": "text/x-python",
   "name": "python",
   "nbconvert_exporter": "python",
   "pygments_lexer": "ipython3",
   "version": "3.11.2"
  }
 },
 "nbformat": 4,
 "nbformat_minor": 2
}
